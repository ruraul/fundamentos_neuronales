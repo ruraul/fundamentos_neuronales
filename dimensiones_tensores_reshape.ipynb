{
  "nbformat": 4,
  "nbformat_minor": 0,
  "metadata": {
    "colab": {
      "provenance": [],
      "authorship_tag": "ABX9TyMnRiopjlPPiteVjjQFJM5i",
      "include_colab_link": true
    },
    "kernelspec": {
      "name": "python3",
      "display_name": "Python 3"
    },
    "language_info": {
      "name": "python"
    }
  },
  "cells": [
    {
      "cell_type": "markdown",
      "metadata": {
        "id": "view-in-github",
        "colab_type": "text"
      },
      "source": [
        "<a href=\"https://colab.research.google.com/github/ruraul/fundamentos_neuronales/blob/main/dimensiones_tensores_reshape.ipynb\" target=\"_parent\"><img src=\"https://colab.research.google.com/assets/colab-badge.svg\" alt=\"Open In Colab\"/></a>"
      ]
    },
    {
      "cell_type": "code",
      "execution_count": 8,
      "metadata": {
        "id": "GLNw2a2jxy4V"
      },
      "outputs": [],
      "source": [
        "import numpy as np"
      ]
    },
    {
      "cell_type": "markdown",
      "source": [
        "Scalar\n"
      ],
      "metadata": {
        "id": "e4vW_MrEoKPB"
      }
    },
    {
      "cell_type": "code",
      "source": [
        "x=np.array(24)\n",
        "print(x.shape)\n",
        "x.ndim"
      ],
      "metadata": {
        "colab": {
          "base_uri": "https://localhost:8080/"
        },
        "id": "yNJ0EyT3oHGH",
        "outputId": "611b2202-ff91-4682-e363-5751cfde965c"
      },
      "execution_count": 6,
      "outputs": [
        {
          "output_type": "stream",
          "name": "stdout",
          "text": [
            "()\n"
          ]
        },
        {
          "output_type": "execute_result",
          "data": {
            "text/plain": [
              "0"
            ]
          },
          "metadata": {},
          "execution_count": 6
        }
      ]
    },
    {
      "cell_type": "markdown",
      "source": [
        "Vector\n"
      ],
      "metadata": {
        "id": "XeUl3ayIohwM"
      }
    },
    {
      "cell_type": "code",
      "source": [
        "x = np.array([3,461,62,672,3335,1452,4])\n",
        "print(x.shape)\n",
        "x.ndim"
      ],
      "metadata": {
        "colab": {
          "base_uri": "https://localhost:8080/"
        },
        "id": "H5t-hg42oj6m",
        "outputId": "0aafdd06-bfc7-42ad-c280-f69db133e112"
      },
      "execution_count": 13,
      "outputs": [
        {
          "output_type": "stream",
          "name": "stdout",
          "text": [
            "(7,)\n"
          ]
        },
        {
          "output_type": "execute_result",
          "data": {
            "text/plain": [
              "1"
            ]
          },
          "metadata": {},
          "execution_count": 13
        }
      ]
    },
    {
      "cell_type": "markdown",
      "source": [
        "matrix\n"
      ],
      "metadata": {
        "id": "Vhc3u01fqr9f"
      }
    },
    {
      "cell_type": "code",
      "source": [
        "x = np.array([[[422,422],\n",
        "              [24,351]],\n",
        "              [[422,422],\n",
        "              [24,351]],\n",
        "              [[422,422],\n",
        "              [24,351]]])\n",
        "print(x.shape)\n",
        "x.ndim"
      ],
      "metadata": {
        "colab": {
          "base_uri": "https://localhost:8080/"
        },
        "outputId": "a2d46709-a7cc-4a1c-a585-10c97b485a1e",
        "id": "38KJVC0lqw0n"
      },
      "execution_count": 23,
      "outputs": [
        {
          "output_type": "stream",
          "name": "stdout",
          "text": [
            "(3, 2, 2)\n"
          ]
        },
        {
          "output_type": "execute_result",
          "data": {
            "text/plain": [
              "3"
            ]
          },
          "metadata": {},
          "execution_count": 23
        }
      ]
    },
    {
      "cell_type": "markdown",
      "source": [
        "Reshape\n"
      ],
      "metadata": {
        "id": "aMh-CXf150Fw"
      }
    },
    {
      "cell_type": "code",
      "source": [
        "x = np.array([[0,1],\n",
        "          [2,3],\n",
        "          [4,5],\n",
        "          [6,7],\n",
        "          [8,9],\n",
        "          [10,11],\n",
        "          [12,13],\n",
        "          ])\n",
        "x.shape"
      ],
      "metadata": {
        "colab": {
          "base_uri": "https://localhost:8080/"
        },
        "id": "vF2w1xrG527g",
        "outputId": "1b1099d1-384e-4bbe-9f31-853a8a7a580a"
      },
      "execution_count": 26,
      "outputs": [
        {
          "output_type": "execute_result",
          "data": {
            "text/plain": [
              "(7, 2)"
            ]
          },
          "metadata": {},
          "execution_count": 26
        }
      ]
    },
    {
      "cell_type": "code",
      "source": [
        "x.reshape(14,1)"
      ],
      "metadata": {
        "colab": {
          "base_uri": "https://localhost:8080/"
        },
        "id": "6q1Otig96lly",
        "outputId": "6d0d8e63-35a0-4765-d557-1ce800962e2d"
      },
      "execution_count": 27,
      "outputs": [
        {
          "output_type": "execute_result",
          "data": {
            "text/plain": [
              "array([[ 0],\n",
              "       [ 1],\n",
              "       [ 2],\n",
              "       [ 3],\n",
              "       [ 4],\n",
              "       [ 5],\n",
              "       [ 6],\n",
              "       [ 7],\n",
              "       [ 8],\n",
              "       [ 9],\n",
              "       [10],\n",
              "       [11],\n",
              "       [12],\n",
              "       [13]])"
            ]
          },
          "metadata": {},
          "execution_count": 27
        }
      ]
    },
    {
      "cell_type": "code",
      "source": [
        "np.transpose(x)"
      ],
      "metadata": {
        "colab": {
          "base_uri": "https://localhost:8080/"
        },
        "id": "6FPMypya7mP_",
        "outputId": "0a2f79a8-f32d-4e06-9aba-ba022afb21df"
      },
      "execution_count": 28,
      "outputs": [
        {
          "output_type": "execute_result",
          "data": {
            "text/plain": [
              "array([[ 0,  2,  4,  6,  8, 10, 12],\n",
              "       [ 1,  3,  5,  7,  9, 11, 13]])"
            ]
          },
          "metadata": {},
          "execution_count": 28
        }
      ]
    },
    {
      "cell_type": "code",
      "source": [
        "x.T"
      ],
      "metadata": {
        "colab": {
          "base_uri": "https://localhost:8080/"
        },
        "id": "DuH34xwk7wlu",
        "outputId": "16cd0b02-fa6e-46d7-e892-bcfb2297a412"
      },
      "execution_count": 29,
      "outputs": [
        {
          "output_type": "execute_result",
          "data": {
            "text/plain": [
              "array([[ 0,  2,  4,  6,  8, 10, 12],\n",
              "       [ 1,  3,  5,  7,  9, 11, 13]])"
            ]
          },
          "metadata": {},
          "execution_count": 29
        }
      ]
    }
  ]
}